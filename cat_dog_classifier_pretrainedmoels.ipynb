{
 "cells": [
  {
   "cell_type": "code",
   "execution_count": null,
   "metadata": {
    "_cell_guid": "b1076dfc-b9ad-4769-8c92-a6c4dae69d19",
    "_kg_hide-output": true,
    "_uuid": "8f2839f25d086af736a60e9eeb907d3b93b6e0e5",
    "execution": {
     "iopub.execute_input": "2024-12-19T13:40:59.465711Z",
     "iopub.status.busy": "2024-12-19T13:40:59.464906Z",
     "iopub.status.idle": "2024-12-19T13:41:17.882616Z",
     "shell.execute_reply": "2024-12-19T13:41:17.881689Z",
     "shell.execute_reply.started": "2024-12-19T13:40:59.465673Z"
    },
    "trusted": true
   },
   "outputs": [],
   "source": [
    "import pandas as pd \n",
    "import numpy as np \n",
    "\n",
    "import tensorflow as tf\n",
    "from tensorflow import keras\n",
    "from keras import Sequential\n",
    "from keras.layers import Dense,Dropout,Conv2D,MaxPooling2D,Flatten,BatchNormalization,Flatten\n",
    "\n",
    "\n",
    "import warnings\n",
    "warnings.filterwarnings(\"ignore\")"
   ]
  },
  {
   "cell_type": "code",
   "execution_count": null,
   "metadata": {
    "execution": {
     "iopub.execute_input": "2024-12-19T13:41:17.885609Z",
     "iopub.status.busy": "2024-12-19T13:41:17.884538Z",
     "iopub.status.idle": "2024-12-19T13:41:17.889208Z",
     "shell.execute_reply": "2024-12-19T13:41:17.888332Z",
     "shell.execute_reply.started": "2024-12-19T13:41:17.885565Z"
    },
    "trusted": true
   },
   "outputs": [],
   "source": [
    "train_dir='/kaggle/input/dogs-vs-cats/train'\n",
    "val_dir='/kaggle/input/dogs-vs-cats/test'"
   ]
  },
  {
   "cell_type": "code",
   "execution_count": null,
   "metadata": {
    "execution": {
     "iopub.execute_input": "2024-12-19T13:41:17.890824Z",
     "iopub.status.busy": "2024-12-19T13:41:17.89046Z",
     "iopub.status.idle": "2024-12-19T13:41:55.739097Z",
     "shell.execute_reply": "2024-12-19T13:41:55.738225Z",
     "shell.execute_reply.started": "2024-12-19T13:41:17.890779Z"
    },
    "trusted": true
   },
   "outputs": [],
   "source": [
    "train_ds = tf.keras.utils.image_dataset_from_directory(\n",
    "    directory=train_dir,        # Path to the directory containing image data.\n",
    "    labels=\"inferred\",          # Automatically infer labels from subdirectory names.\n",
    "    label_mode='int',   # Labels are returned as one-hot encoded arrays (use \"categorical\" for classification tasks).\n",
    "    class_names=None,           # Class names inferred from directory structure if None; can be manually specified.\n",
    "    color_mode=\"rgb\",           # Load images in RGB color mode (use \"grayscale\" for grayscale images).\n",
    "    batch_size=32,              # Number of samples per batch of data.\n",
    "    image_size=(256, 256),      # Resize all images to this target size (256x256 pixels in this case).\n",
    "    validation_split=0.2,       # Reserve 20% of the data for validation.\n",
    "    subset=\"training\",          # Specify that this dataset is for training. Use \"validation\" for validation data.\n",
    "    seed=123                   # Seed for shuffling and ensuring consistent split between training and validation.\n",
    ")\n",
    "val_ds = tf.keras.utils.image_dataset_from_directory(\n",
    "    directory=val_dir,\n",
    "    labels=\"inferred\",\n",
    "    label_mode='int',  # Use \"categorical\" for categorical labels\n",
    "    class_names=None,\n",
    "    color_mode=\"rgb\",\n",
    "    batch_size=32,\n",
    "    image_size=(256, 256),\n",
    "    validation_split=0.2,\n",
    "    subset=\"validation\",\n",
    "    seed=123\n",
    ")\n"
   ]
  },
  {
   "cell_type": "code",
   "execution_count": null,
   "metadata": {
    "execution": {
     "iopub.execute_input": "2024-12-19T13:41:55.740519Z",
     "iopub.status.busy": "2024-12-19T13:41:55.740236Z",
     "iopub.status.idle": "2024-12-19T13:41:55.980814Z",
     "shell.execute_reply": "2024-12-19T13:41:55.979868Z",
     "shell.execute_reply.started": "2024-12-19T13:41:55.740491Z"
    },
    "trusted": true
   },
   "outputs": [],
   "source": [
    "for image, label in train_ds.take(1):  # Take one batch from the dataset\n",
    "    print(\"Image shape:\", image.shape)  # Print the shape of the image tensor\n",
    "    print(\"Label shape:\", label.shape)  # Print the shape of the label tensor\n"
   ]
  },
  {
   "cell_type": "code",
   "execution_count": null,
   "metadata": {
    "execution": {
     "iopub.execute_input": "2024-12-19T13:41:55.983356Z",
     "iopub.status.busy": "2024-12-19T13:41:55.983076Z",
     "iopub.status.idle": "2024-12-19T13:41:57.129429Z",
     "shell.execute_reply": "2024-12-19T13:41:57.12815Z",
     "shell.execute_reply.started": "2024-12-19T13:41:55.983329Z"
    },
    "trusted": true
   },
   "outputs": [],
   "source": [
    "import matplotlib.pyplot as plt\n",
    "\n",
    "# Get a batch of images and labels\n",
    "images, labels = next(iter(train_ds.take(1)))#etrieves the first batch of images and labels\n",
    "\n",
    "# Display the first 9 images\n",
    "plt.figure(figsize=(10, 10))\n",
    "for i in range(9):\n",
    "    plt.subplot(3, 3, i + 1)\n",
    "    plt.imshow(images[i].numpy().astype(\"uint8\"))\n",
    "    plt.title(train_ds.class_names[labels[i]])\n",
    "    plt.axis(\"off\")\n",
    "plt.show()\n"
   ]
  },
  {
   "cell_type": "code",
   "execution_count": null,
   "metadata": {
    "execution": {
     "iopub.execute_input": "2024-12-19T13:41:57.130822Z",
     "iopub.status.busy": "2024-12-19T13:41:57.130531Z",
     "iopub.status.idle": "2024-12-19T13:41:57.179159Z",
     "shell.execute_reply": "2024-12-19T13:41:57.17856Z",
     "shell.execute_reply.started": "2024-12-19T13:41:57.130794Z"
    },
    "trusted": true
   },
   "outputs": [],
   "source": [
    "def processes(image,label):\n",
    "    image=tf.cast(image/255. ,tf.float32)# 256 -->0 to 255 and cast to float\n",
    "    return image,label\n",
    "\n",
    "train_ds=train_ds.map(processes)\n",
    "val_ds=val_ds.map(processes)"
   ]
  },
  {
   "cell_type": "code",
   "execution_count": null,
   "metadata": {
    "execution": {
     "iopub.execute_input": "2024-12-19T13:41:57.180633Z",
     "iopub.status.busy": "2024-12-19T13:41:57.180284Z",
     "iopub.status.idle": "2024-12-19T13:41:57.388552Z",
     "shell.execute_reply": "2024-12-19T13:41:57.387814Z",
     "shell.execute_reply.started": "2024-12-19T13:41:57.180595Z"
    },
    "trusted": true
   },
   "outputs": [],
   "source": [
    "model=Sequential()\n",
    "#1st convolutional  layer\n",
    "model.add(Conv2D(32,kernel_size=(3,3),padding='valid',activation='relu',input_shape=(256,256,3)))\n",
    "model.add(BatchNormalization())\n",
    "model.add(MaxPooling2D(pool_size=(2,2),strides=2,padding='valid'))\n",
    "#2st convolutional  layer\n",
    "model.add(Conv2D(64,kernel_size=(3,3),padding='valid',activation='relu'))\n",
    "model.add(BatchNormalization())\n",
    "model.add(MaxPooling2D(pool_size=(2,2),strides=2,padding='valid'))\n",
    "#2nd convolutional  layer\n",
    "model.add(Conv2D(128,kernel_size=(3,3),padding='valid',activation='relu'))\n",
    "model.add(BatchNormalization())\n",
    "model.add(MaxPooling2D(pool_size=(2,2),strides=2,padding='valid'))\n",
    "\n",
    "#flattern convert to 1D\n",
    "model.add(Flatten())\n",
    "\n",
    "#add fully connected neural network\n",
    "model.add(Dense(128,activation='relu'))\n",
    "model.add(Dropout(0.2))\n",
    "model.add(Dense(64,activation='relu'))\n",
    "model.add(Dropout(0.2))\n",
    "model.add(Dense(1,activation='sigmoid'))\n"
   ]
  },
  {
   "cell_type": "code",
   "execution_count": null,
   "metadata": {
    "execution": {
     "iopub.execute_input": "2024-12-19T13:41:57.389834Z",
     "iopub.status.busy": "2024-12-19T13:41:57.389564Z",
     "iopub.status.idle": "2024-12-19T13:41:57.415614Z",
     "shell.execute_reply": "2024-12-19T13:41:57.414749Z",
     "shell.execute_reply.started": "2024-12-19T13:41:57.389809Z"
    },
    "trusted": true
   },
   "outputs": [],
   "source": [
    "model.summary()"
   ]
  },
  {
   "cell_type": "code",
   "execution_count": null,
   "metadata": {
    "execution": {
     "iopub.execute_input": "2024-12-19T13:41:57.416913Z",
     "iopub.status.busy": "2024-12-19T13:41:57.41663Z",
     "iopub.status.idle": "2024-12-19T13:41:57.432179Z",
     "shell.execute_reply": "2024-12-19T13:41:57.431382Z",
     "shell.execute_reply.started": "2024-12-19T13:41:57.416885Z"
    },
    "trusted": true
   },
   "outputs": [],
   "source": [
    "from tensorflow.keras.optimizers import Adam\n",
    "model.compile(optimizer='Adam',loss='binary_crossentropy',metrics=['accuracy'])\n"
   ]
  },
  {
   "cell_type": "code",
   "execution_count": null,
   "metadata": {
    "execution": {
     "iopub.execute_input": "2024-12-19T13:41:57.433444Z",
     "iopub.status.busy": "2024-12-19T13:41:57.43317Z"
    },
    "trusted": true
   },
   "outputs": [],
   "source": [
    "from tensorflow.keras.callbacks import EarlyStopping\n",
    "#Early_Stopping\n",
    "early_stopping = EarlyStopping(\n",
    "    min_delta=0.001, # minimium amount of change to count as an improvement\n",
    "    patience=5, \n",
    "    restore_best_weights=True,\n",
    ")\n",
    "#fit model\n",
    "history=model.fit(train_ds,epochs=10,validation_data=val_ds,callbacks = early_stopping)"
   ]
  },
  {
   "cell_type": "code",
   "execution_count": null,
   "metadata": {
    "trusted": true
   },
   "outputs": [],
   "source": [
    "validation_loss, validation_accuracy = model.evaluate(val_ds)\n",
    "\n",
    "# Print the validation loss and accuracy\n",
    "print(\"Validation Loss:\", validation_loss)\n",
    "print(\"Validation Accuracy:\", validation_accuracy)"
   ]
  },
  {
   "cell_type": "code",
   "execution_count": null,
   "metadata": {
    "trusted": true
   },
   "outputs": [],
   "source": [
    "import matplotlib.pyplot as plt\n",
    "\n",
    "# Plot training and validation accuracy\n",
    "plt.plot(history.history['accuracy'], color='red', label='Train Accuracy')\n",
    "plt.plot(history.history['val_accuracy'], color='blue', label='Validation Accuracy')\n",
    "plt.legend()\n",
    "plt.xlabel('Epochs')\n",
    "plt.ylabel('Accuracy')\n",
    "plt.title('Model Accuracy')\n",
    "plt.show()\n"
   ]
  },
  {
   "cell_type": "code",
   "execution_count": null,
   "metadata": {
    "trusted": true
   },
   "outputs": [],
   "source": [
    "#way to reduce overfitting\n",
    "#add more data\n",
    "#data augmentation\n",
    "#l1/l2 regularization\n",
    "#dropout\n",
    "#batchnormalization\n",
    "#pretrained model"
   ]
  },
  {
   "cell_type": "code",
   "execution_count": null,
   "metadata": {
    "trusted": true
   },
   "outputs": [],
   "source": [
    "import cv2\n",
    "test_img=cv2.imread('/kaggle/input/dogs-vs-cats/test/dogs/dog.10028.jpg')\n",
    "plt.imshow(test_img)\n",
    "test_img=cv2.resize(test_img,(256,256))\n",
    "test_input=test_img.reshape(1,256,256,3)\n",
    "model.predict(test_input)"
   ]
  },
  {
   "cell_type": "code",
   "execution_count": null,
   "metadata": {
    "trusted": true
   },
   "outputs": [],
   "source": [
    "from keras import layers, models, optimizers\n",
    "from keras.applications import VGG16\n",
    "\n",
    "\n",
    "conv_base = VGG16(weights='imagenet',\n",
    "                  include_top=False,\n",
    "                  input_shape=(256, 256, 3))\n",
    "\n",
    "model2 =Sequential()\n",
    "model2.add(conv_base)\n",
    "model2.add(layers.Flatten())\n",
    "model2.add(layers.Dropout(0.4))\n",
    "model2.add(layers.Dense(256, activation='relu'))\n",
    "model2.add(layers.Dense(1, activation='sigmoid'))\n",
    "\n",
    "conv_base.trainable = False\n",
    "\n",
    "model2.compile(loss='binary_crossentropy',\n",
    "              optimizer=optimizers.RMSprop(learning_rate=2e-5),   #2*10^-5=0.00002\n",
    "              metrics=['acc'])"
   ]
  },
  {
   "cell_type": "code",
   "execution_count": null,
   "metadata": {
    "execution": {
     "iopub.status.idle": "2024-12-19T14:04:00.72934Z",
     "shell.execute_reply": "2024-12-19T14:04:00.728551Z",
     "shell.execute_reply.started": "2024-12-19T13:47:54.248149Z"
    },
    "trusted": true
   },
   "outputs": [],
   "source": [
    "history=model2.fit(train_ds,epochs=10,validation_data=val_ds,callbacks = early_stopping)"
   ]
  },
  {
   "cell_type": "code",
   "execution_count": null,
   "metadata": {
    "execution": {
     "iopub.execute_input": "2024-12-19T14:04:00.730828Z",
     "iopub.status.busy": "2024-12-19T14:04:00.730552Z",
     "iopub.status.idle": "2024-12-19T14:04:06.329654Z",
     "shell.execute_reply": "2024-12-19T14:04:06.328801Z",
     "shell.execute_reply.started": "2024-12-19T14:04:00.730802Z"
    },
    "trusted": true
   },
   "outputs": [],
   "source": [
    "validation_loss, validation_accuracy = model2.evaluate(val_ds)\n",
    "\n",
    "# Print the validation loss and accuracy\n",
    "print(\"Validation Loss:\", validation_loss)\n",
    "print(\"Validation Accuracy:\", validation_accuracy)"
   ]
  },
  {
   "cell_type": "code",
   "execution_count": null,
   "metadata": {
    "execution": {
     "iopub.execute_input": "2024-12-19T14:04:06.331022Z",
     "iopub.status.busy": "2024-12-19T14:04:06.330746Z",
     "iopub.status.idle": "2024-12-19T14:04:06.503252Z",
     "shell.execute_reply": "2024-12-19T14:04:06.502406Z",
     "shell.execute_reply.started": "2024-12-19T14:04:06.330996Z"
    },
    "trusted": true
   },
   "outputs": [],
   "source": [
    "import matplotlib.pyplot as plt\n",
    "\n",
    "# Plot training and validation accuracy\n",
    "plt.plot(history.history['acc'], color='red', label='Train Accuracy')\n",
    "plt.plot(history.history['val_acc'], color='blue', label='Validation Accuracy')\n",
    "plt.legend()\n",
    "plt.xlabel('Epochs')\n",
    "plt.ylabel('Accuracy')\n",
    "plt.title('Model Accuracy')\n",
    "plt.show()\n"
   ]
  },
  {
   "cell_type": "code",
   "execution_count": null,
   "metadata": {
    "execution": {
     "iopub.execute_input": "2024-12-19T14:04:06.504733Z",
     "iopub.status.busy": "2024-12-19T14:04:06.504396Z",
     "iopub.status.idle": "2024-12-19T14:04:08.016318Z",
     "shell.execute_reply": "2024-12-19T14:04:08.015392Z",
     "shell.execute_reply.started": "2024-12-19T14:04:06.504696Z"
    },
    "trusted": true
   },
   "outputs": [],
   "source": [
    "from keras.applications import Xception\n",
    "\n",
    "conv_base = Xception(weights='imagenet',\n",
    "                  include_top=False,\n",
    "                  input_shape=(256, 256, 3))\n",
    "\n",
    "model3 =Sequential()\n",
    "model3.add(conv_base)\n",
    "model3.add(layers.Flatten())\n",
    "model3.add(layers.Dropout(0.4))\n",
    "model3.add(layers.Dense(256, activation='relu'))\n",
    "model3.add(layers.Dense(1, activation='sigmoid'))\n",
    "\n",
    "conv_base.trainable = False\n",
    "\n",
    "model3.compile(loss='binary_crossentropy',\n",
    "              optimizer=optimizers.RMSprop(learning_rate=2e-5),#2*10^-5=0.00002\n",
    "              metrics=['acc'])"
   ]
  },
  {
   "cell_type": "code",
   "execution_count": null,
   "metadata": {
    "execution": {
     "iopub.execute_input": "2024-12-19T14:04:08.017854Z",
     "iopub.status.busy": "2024-12-19T14:04:08.017558Z"
    },
    "trusted": true
   },
   "outputs": [],
   "source": [
    "history=model3.fit(train_ds,epochs=10,validation_data=val_ds,callbacks = early_stopping)"
   ]
  },
  {
   "cell_type": "code",
   "execution_count": null,
   "metadata": {
    "trusted": true
   },
   "outputs": [],
   "source": [
    "import matplotlib.pyplot as plt\n",
    "\n",
    "# Plot training and validation accuracy\n",
    "plt.plot(history.history['acc'], color='red', label='Train Accuracy')\n",
    "plt.plot(history.history['val_acc'], color='blue', label='Validation Accuracy')\n",
    "plt.legend()\n",
    "plt.xlabel('Epochs')\n",
    "plt.ylabel('Accuracy')\n",
    "plt.title('Model Accuracy')\n",
    "plt.show()\n"
   ]
  },
  {
   "cell_type": "code",
   "execution_count": null,
   "metadata": {
    "trusted": true
   },
   "outputs": [],
   "source": [
    "conv_base = VGG16(weights='imagenet',\n",
    "                  include_top=False,\n",
    "                  input_shape=(256, 256, 3))\n",
    "\n",
    "conv_base.trainable = True\n",
    "\n",
    "set_trainable = False\n",
    "for layer in conv_base.layers:\n",
    "    if layer.name == 'block5_conv1':\n",
    "        set_trainable = True\n",
    "    if set_trainable:\n",
    "        layer.trainable = True\n",
    "    else:\n",
    "        layer.trainable = False\n",
    "\n",
    "\n",
    "model4 = models.Sequential()\n",
    "model4.add(conv_base)\n",
    "model4.add(layers.Flatten())\n",
    "model4.add(layers.Dropout(0.5))\n",
    "model4.add(layers.Dense(256, activation='relu'))\n",
    "model4.add(layers.Dense(1, activation='sigmoid'))\n",
    "\n",
    "model4.compile(loss='binary_crossentropy',\n",
    "              optimizer=optimizers.RMSprop(learning_rate=1e-5),#2*10^-5=0.00002\n",
    "              metrics=['acc'])"
   ]
  },
  {
   "cell_type": "code",
   "execution_count": null,
   "metadata": {
    "trusted": true
   },
   "outputs": [],
   "source": [
    "history=model4.fit(train_ds,epochs=10,validation_data=val_ds,callbacks = early_stopping)"
   ]
  },
  {
   "cell_type": "code",
   "execution_count": null,
   "metadata": {
    "trusted": true
   },
   "outputs": [],
   "source": []
  }
 ],
 "metadata": {
  "kaggle": {
   "accelerator": "nvidiaTeslaT4",
   "dataSources": [
    {
     "datasetId": 84954,
     "sourceId": 196452,
     "sourceType": "datasetVersion"
    }
   ],
   "dockerImageVersionId": 30805,
   "isGpuEnabled": true,
   "isInternetEnabled": true,
   "language": "python",
   "sourceType": "notebook"
  },
  "kernelspec": {
   "display_name": "Python 3",
   "language": "python",
   "name": "python3"
  },
  "language_info": {
   "codemirror_mode": {
    "name": "ipython",
    "version": 3
   },
   "file_extension": ".py",
   "mimetype": "text/x-python",
   "name": "python",
   "nbconvert_exporter": "python",
   "pygments_lexer": "ipython3",
   "version": "3.10.14"
  }
 },
 "nbformat": 4,
 "nbformat_minor": 4
}
